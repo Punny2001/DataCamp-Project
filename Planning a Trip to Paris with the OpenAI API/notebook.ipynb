{
 "cells": [
  {
   "cell_type": "markdown",
   "id": "17000260-fe07-4f92-abb4-3d325226eb1f",
   "metadata": {},
   "source": [
    "![eiffel-tower](images/eiffel-tower.png)\n",
    "\n",
    "As a distinguished AI Developer, you've been selected by Peterman Reality Tours, an internationally acclaimed tourism company, to undertake an influential project. This project requires you to harness the potential of OpenAI's API, specifically using its state-of-the-art language model, GPT-3.5 Turbo, to create an AI-powered travel guide for the culturally rich city of Paris.\n",
    "\n",
    "Your creation will become a virtual Parisian expert, delivering valuable insights into the city's iconic landmarks and hidden treasures. The AI will respond intelligently to a set of common questions, providing a more engaging and immersive travel planning experience for the clientele of Peterman Reality Tours.\n",
    "\n",
    "The ultimate aspiration is a user-friendly, AI-driven travel guide that significantly enhances the exploration of Paris. Users will be able to pre-define their questions and receive well-informed answers from the AI, providing a seamless and intuitive travel planning process."
   ]
  },
  {
   "cell_type": "markdown",
   "id": "9ea0c3f8-f505-45b5-868d-46c06d35521f",
   "metadata": {},
   "source": [
    "## Before you start\n",
    "\n",
    "In order to complete the project you will need to create a developer account with OpenAI and store your API key as an environment variable. Instructions for these steps are outlined below.\n",
    "\n",
    "### Create a developer account with OpenAI\n",
    "\n",
    "1. Go to the [API signup page](https://platform.openai.com/signup). \n",
    "\n",
    "2. Create your account (you'll need to provide your email address and your phone number).\n",
    "\n",
    "<img src=\"images/openai-create-account.jpeg\" width=\"200\">\n",
    "\n",
    "3. Go to the [API keys page](https://platform.openai.com/account/api-keys). \n",
    "\n",
    "4. Create a new secret key.\n",
    "\n",
    "<img src=\"images/openai-new-secret-key.png\" width=\"200\">\n",
    "\n",
    "5. **Take a copy of it**. (If you lose it, delete the key and create a new one.)"
   ]
  },
  {
   "cell_type": "markdown",
   "id": "68b70ad8-2134-4018-b72c-8b83a95da493",
   "metadata": {},
   "source": [
    "### Add a payment method\n",
    "\n",
    "OpenAI sometimes provides free credits for the API, but this can vary based on geography. You may need to add debit/credit card details. \n",
    "\n",
    "**Using the `gpt-3.5-turbo` model in this project should incur a cost less than 1 US cent (but if you rerun tasks, you will be charged every time).** For more information on pricing, see [OpenAI's pricing page](https://openai.com/pricing).\n",
    "\n",
    "1. Go to the [Payment Methods page](https://platform.openai.com/account/billing/payment-methods).\n",
    "\n",
    "2. Click Add payment method.\n",
    "\n",
    "<img src=\"images/openai-add-payment-method.png\" width=\"200\">\n",
    "\n",
    "3. Fill in your card details."
   ]
  },
  {
   "cell_type": "markdown",
   "id": "27c6adad-358b-4ed0-98f1-d8b0d2de31ed",
   "metadata": {},
   "source": [
    "### Add an environment variable for your OpenAI key\n",
    "\n",
    "1. In the Workbook, click on \"Environment,\" in the left sidebar.\n",
    "\n",
    "2. Click on the plus button next to \"Environment variables\" to add environment variables.\n",
    "\n",
    "3. In the \"Name\" field, type \"OPENAI\". In the \"Value\" field, paste in your secret key.\n",
    "\n",
    "<img src=\"images/env-var-details.png\" width=\"500\">\n",
    "\n",
    "4. Click \"Create\", then you'll see the following pop-up window. Click \"Connect,\" then wait 5-10 seconds for the kernel to restart, or restart it manually in the Run menu.\n",
    "\n",
    "<img src=\"images/connect-integ.png\" width=\"500\">"
   ]
  },
  {
   "cell_type": "markdown",
   "id": "471c8b1d-db2a-483c-bcb6-ea2e8abc2c52",
   "metadata": {},
   "source": [
    "## Chatbot Workspace"
   ]
  },
  {
   "cell_type": "code",
   "execution_count": 1,
   "id": "af542964-72bd-404b-8689-0ddf2cec72b9",
   "metadata": {
    "executionCancelledAt": null,
    "executionTime": 49,
    "lastExecutedAt": 1747887893141,
    "lastExecutedByKernel": "ec8acff1-b144-4fa8-af61-b6c155d3681e",
    "lastScheduledRunId": null,
    "lastSuccessfullyExecutedCode": "import os\nfrom openai import OpenAI\n\n# Define the model to use\nmodel = \"gpt-3.5-turbo\"\n\n# Define the client\nclient = OpenAI(api_key=os.environ[\"OPENAI\"])"
   },
   "outputs": [],
   "source": [
    "import os\n",
    "from openai import OpenAI\n",
    "\n",
    "# Define the model to use\n",
    "model = \"gpt-3.5-turbo\"\n",
    "\n",
    "# Define the client\n",
    "client = OpenAI(api_key=os.environ[\"OPENAI\"])"
   ]
  },
  {
   "cell_type": "code",
   "execution_count": null,
   "id": "9de5fdad-f1fd-4b27-af28-bc2cb5151312",
   "metadata": {
    "executionCancelledAt": null,
    "executionTime": 1992,
    "lastExecutedAt": 1747887895133,
    "lastExecutedByKernel": "ec8acff1-b144-4fa8-af61-b6c155d3681e",
    "lastScheduledRunId": null,
    "lastSuccessfullyExecutedCode": "conversation = [\n    {\"role\": \"system\", \"content\": \"You are a local travel guide in France. If you are asked about ranking or list, please answer as this format '1. Name: {name}\\nDescription: {short description}\\n ...'\"}\n]\n\nuser_messages = [\"How far away is the Louvre from the Eiffel Tower (in miles) if you are driving?\", \"Where is the Arc de Triomphe?\", \"What are the must-see artworks at the Louvre Museum?\"]\n\nfor prompt in user_messages:\n    # Create user's content dict\n    user_dict = {\"role\": \"user\", \"content\": prompt}\n\n    # Append each user message\n    conversation.append(user_dict)\n\n    # Generate a response\n    response = client.chat.completions.create(\n        model=model,\n        messages=conversation,\n        max_tokens=100,\n        temperature=0.0\n    )\n\n    # Create assistant'dict used to keep last response\n    assistant_dict = {\"role\": \"assistant\", \"content\": response.choices[0].message.content}\n\n    # Append each response message to assistant\n    conversation.append(assistant_dict)\n\n    print(f\"User: {prompt}\")\n    print(f\"Assistant: {response.choices[0].message.content}\\n\")",
    "outputsMetadata": {
     "0": {
      "height": 416,
      "type": "stream"
     }
    }
   },
   "outputs": [
    {
     "name": "stdout",
     "output_type": "stream",
     "text": [
      "User: How far away is the Louvre from the Eiffel Tower (in miles) if you are driving?\n",
      "Assistant: The Louvre and the Eiffel Tower are approximately 2.5 miles apart if you are driving.\n",
      "\n",
      "User: Where is the Arc de Triomphe?\n",
      "Assistant: The Arc de Triomphe is located at the western end of the Champs-Élysées in Paris, France.\n",
      "\n",
      "User: What are the must-see artworks at the Louvre Museum?\n",
      "Assistant: 1. Name: Mona Lisa\n",
      "Description: One of the most famous paintings in the world, painted by Leonardo da Vinci.\n",
      "\n",
      "2. Name: Venus de Milo\n",
      "Description: An ancient Greek statue of the goddess Aphrodite, dating back to around 100 BC.\n",
      "\n",
      "3. Name: Winged Victory of Samothrace\n",
      "Description: A stunning Hellenistic sculpture of the Greek goddess Nike, dating back to the 2nd century BC.\n",
      "\n",
      "4. Name: The Raft of the Med\n",
      "\n"
     ]
    }
   ],
   "source": [
    "conversation = [\n",
    "    {\"role\": \"system\", \"content\": \"You are a local travel guide in France. If you are asked about ranking or list, please answer as this format '1. Name: {name}\\nDescription: {short description}\\n ...'\"}\n",
    "]\n",
    "\n",
    "user_messages = [\"How far away is the Louvre from the Eiffel Tower (in miles) if you are driving?\", \"Where is the Arc de Triomphe?\", \"What are the must-see artworks at the Louvre Museum?\"]\n",
    "\n",
    "for prompt in user_messages:\n",
    "    # Create user's content dict\n",
    "    user_dict = {\"role\": \"user\", \"content\": prompt}\n",
    "\n",
    "    # Append each user message\n",
    "    conversation.append(user_dict)\n",
    "\n",
    "    # Generate a response\n",
    "    response = client.chat.completions.create(\n",
    "        model=model,\n",
    "        messages=conversation,\n",
    "        max_tokens=100,\n",
    "        temperature=0.0\n",
    "    )\n",
    "\n",
    "    # Create assistant'dict used to keep last response\n",
    "    assistant_dict = {\"role\": \"assistant\", \"content\": response.choices[0].message.content}\n",
    "\n",
    "    # Append each response message to assistant\n",
    "    conversation.append(assistant_dict)\n",
    "\n",
    "    print(f\"User: {prompt}\")\n",
    "    print(f\"Assistant: {response.choices[0].message.content}\\n\")"
   ]
  },
  {
   "cell_type": "code",
   "execution_count": null,
   "id": "59e60594-3eaf-424a-bebb-db6e9cb7f628",
   "metadata": {
    "executionCancelledAt": null,
    "executionTime": 50,
    "lastExecutedAt": 1747887895183,
    "lastExecutedByKernel": "ec8acff1-b144-4fa8-af61-b6c155d3681e",
    "lastScheduledRunId": null,
    "lastSuccessfullyExecutedCode": "print(response)\n\n# Find len of response\nprint(len(response.choices))\n\n# Print result\nprint(response.choices[0].message.content)",
    "outputsMetadata": {
     "0": {
      "height": 542,
      "type": "stream"
     }
    }
   },
   "outputs": [
    {
     "name": "stdout",
     "output_type": "stream",
     "text": [
      "ChatCompletion(id='chatcmpl-BZrmApjgONiurTsvhkGIG0hGVOsGH', choices=[Choice(finish_reason='length', index=0, logprobs=None, message=ChatCompletionMessage(content='1. Name: Mona Lisa\\nDescription: One of the most famous paintings in the world, painted by Leonardo da Vinci.\\n\\n2. Name: Venus de Milo\\nDescription: An ancient Greek statue of the goddess Aphrodite, dating back to around 100 BC.\\n\\n3. Name: Winged Victory of Samothrace\\nDescription: A stunning Hellenistic sculpture of the Greek goddess Nike, dating back to the 2nd century BC.\\n\\n4. Name: The Raft of the Med', refusal=None, role='assistant', function_call=None, tool_calls=None, annotations=[]))], created=1747887894, model='gpt-3.5-turbo-0125', object='chat.completion', service_tier='default', system_fingerprint=None, usage=CompletionUsage(completion_tokens=100, prompt_tokens=157, total_tokens=257, completion_tokens_details=CompletionTokensDetails(reasoning_tokens=0, audio_tokens=0, accepted_prediction_tokens=0, rejected_prediction_tokens=0), prompt_tokens_details={'cached_tokens': 0, 'audio_tokens': 0}), _request_id='req_eb58c828a5714666beb6cd1a931b6a27', __exclude_fields__={'__exclude_fields__', '_request_id'})\n",
      "1\n",
      "1. Name: Mona Lisa\n",
      "Description: One of the most famous paintings in the world, painted by Leonardo da Vinci.\n",
      "\n",
      "2. Name: Venus de Milo\n",
      "Description: An ancient Greek statue of the goddess Aphrodite, dating back to around 100 BC.\n",
      "\n",
      "3. Name: Winged Victory of Samothrace\n",
      "Description: A stunning Hellenistic sculpture of the Greek goddess Nike, dating back to the 2nd century BC.\n",
      "\n",
      "4. Name: The Raft of the Med\n"
     ]
    }
   ],
   "source": [
    "print(response)\n",
    "\n",
    "# Find len of response\n",
    "print(len(response.choices))\n",
    "\n",
    "# Print result\n",
    "print(response.choices[0].message.content)"
   ]
  }
 ],
 "metadata": {
  "editor": "DataLab",
  "kernelspec": {
   "display_name": "Python 3",
   "language": "python",
   "name": "python3"
  },
  "language_info": {
   "codemirror_mode": {
    "name": "ipython",
    "version": 3
   },
   "file_extension": ".py",
   "mimetype": "text/x-python",
   "name": "python",
   "nbconvert_exporter": "python",
   "pygments_lexer": "ipython3",
   "version": "3.10.15"
  }
 },
 "nbformat": 4,
 "nbformat_minor": 5
}
