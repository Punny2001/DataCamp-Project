{
 "cells": [
  {
   "cell_type": "markdown",
   "id": "cbedb963-73d6-481c-8905-cc99e9b25fe5",
   "metadata": {},
   "source": [
    "# Cleaning an Orders Dataset with PySpark"
   ]
  },
  {
   "cell_type": "markdown",
   "id": "50e4e10a-82d1-4840-a207-f4e64a7bd20e",
   "metadata": {},
   "source": [
    "![ecommerce_analytics-1224x532](ecommerce_analytics-1224x532.jpg)\n"
   ]
  },
  {
   "cell_type": "markdown",
   "id": "954c11f8-0b2d-4883-95d7-4b5ff4aee339",
   "metadata": {
    "collapsed": false,
    "jupyter": {
     "outputs_hidden": false,
     "source_hidden": false
    }
   },
   "source": [
    "As a Data Engineer at an electronics e-commerce company, Voltmart, you have been requested by a peer Machine Learning team to clean the data containing the information about orders made last year. They are planning to further use this cleaned data to build a demand forecasting model. To achieve this, they have shared their requirements regarding the desired output table format.\n",
    "\n",
    "An analyst shared a parquet file called `\"orders_data.parquet\"` for you to clean and preprocess. \n",
    "\n",
    "You can see the dataset schema below along with the **cleaning requirements**:"
   ]
  },
  {
   "cell_type": "markdown",
   "id": "086e2bd3-ff58-423b-98e0-a7e4c979d7f3",
   "metadata": {},
   "source": [
    "## `orders_data.parquet`\n",
    "\n",
    "| column | data type | description | cleaning requirements | \n",
    "|--------|-----------|-------------|-----------------------|\n",
    "| `order_date` | `timestamp` | Date and time when the order was made | _Modify: Remove orders placed between 12am and 5am (inclusive); convert from timestamp to date_ |\n",
    "| `time_of_day` | `string` | Period of the day when the order was made | _New column containing (lower bound inclusive, upper bound exclusive): \"morning\" for orders placed 5-12am, \"afternoon\" for orders placed 12-6pm, and \"evening\" for 6-12pm_ |\n",
    "| `order_id` | `long` | Order ID | _N/A_ |\n",
    "| `product` | `string` | Name of a product ordered | _Remove rows containing \"TV\" as the company has stopped selling this product; ensure all values are lowercase_ |\n",
    "| `product_id` | `double` | Product ID | _N/A_ |\n",
    "| `category` | `string` | Broader category of a product | _Ensure all values are lowercase_ |\n",
    "| `purchase_address` | `string` | Address line where the order was made (\"House Street, City, State Zipcode\") | _N/A_ |\n",
    "| `purchase_state` | `string` | US State of the purchase address | _New column containing: the State that the purchase was ordered from_ |\n",
    "| `quantity_ordered` | `long` | Number of product units ordered | _N/A_ |\n",
    "| `price_each` | `double` | Price of a product unit | _N/A_ |\n",
    "| `cost_price` | `double` | Cost of production per product unit | _N/A_ |\n",
    "| `turnover` | `double` | Total amount paid for a product (quantity x price) | _N/A_ |\n",
    "| `margin` | `double` | Profit made by selling a product (turnover - cost) | _N/A_ |\n",
    "\n",
    "<br>"
   ]
  },
  {
   "cell_type": "markdown",
   "id": "01d3997c",
   "metadata": {},
   "source": [
    "# Initialize Spark Session"
   ]
  },
  {
   "cell_type": "code",
   "execution_count": null,
   "id": "62b55d87-f8fd-4e8a-9ef6-6fe91f4de5f3",
   "metadata": {
    "executionCancelledAt": null,
    "executionTime": 4156,
    "lastExecutedAt": 1728837110303,
    "lastExecutedByKernel": "4ddffa7c-73f7-49e2-aeab-abce54236129",
    "lastScheduledRunId": null,
    "lastSuccessfullyExecutedCode": "from pyspark.sql import (\n    SparkSession,\n    types,\n    functions as F,\n)\n\nspark = (\n    SparkSession\n    .builder\n    .appName('cleaning_orders_dataset_with_pyspark')\n    .getOrCreate()\n)",
    "outputsMetadata": {
     "0": {
      "height": 59,
      "type": "stream"
     },
     "1": {
      "height": 59,
      "type": "stream"
     }
    }
   },
   "outputs": [],
   "source": [
    "from pyspark.sql import (\n",
    "    SparkSession,\n",
    "    types,\n",
    "    functions as F,\n",
    ")\n",
    "\n",
    "spark = (\n",
    "    SparkSession\n",
    "    .builder\n",
    "    .appName('cleaning_orders_dataset_with_pyspark')\n",
    "    .getOrCreate()\n",
    ")"
   ]
  },
  {
   "cell_type": "markdown",
   "id": "08de9f2b",
   "metadata": {},
   "source": [
    "# Read data source"
   ]
  },
  {
   "cell_type": "code",
   "execution_count": null,
   "id": "fa903d28-82b2-4c39-90b1-3d9a9421fb6d",
   "metadata": {
    "executionCancelledAt": null,
    "executionTime": null,
    "lastExecutedAt": null,
    "lastExecutedByKernel": null,
    "lastScheduledRunId": null,
    "lastSuccessfullyExecutedCode": null,
    "outputsMetadata": {
     "0": {
      "height": 38,
      "type": "stream"
     },
     "1": {
      "height": 222,
      "type": "dataFrame"
     }
    }
   },
   "outputs": [],
   "source": [
    "orders_data = spark.read.parquet('orders_data.parquet')\n",
    "orders_data.toPandas().head()"
   ]
  },
  {
   "cell_type": "markdown",
   "id": "93a41b4f-8fdc-49e4-9394-0778f135595d",
   "metadata": {},
   "source": [
    "# Remove unneccessary order date"
   ]
  },
  {
   "cell_type": "code",
   "execution_count": null,
   "id": "402b2929-9633-4796-9b12-43874750cc43",
   "metadata": {
    "executionCancelledAt": null,
    "executionTime": 118,
    "lastExecutedAt": 1728837118430,
    "lastExecutedByKernel": "4ddffa7c-73f7-49e2-aeab-abce54236129",
    "lastScheduledRunId": null,
    "lastSuccessfullyExecutedCode": "orders_data = orders_data \\\n    .filter(\"HOUR(order_date) NOT BETWEEN 1 AND 4\") \\\n    .filter(\"product NOT LIKE '%TV%'\")",
    "outputsMetadata": {
     "0": {
      "height": 38,
      "type": "stream"
     }
    }
   },
   "outputs": [],
   "source": [
    "orders_data = orders_data \\\n",
    "    .filter(\"HOUR(order_date) NOT BETWEEN 1 AND 4\") \\\n",
    "    .filter(\"product NOT LIKE '%TV%'\")"
   ]
  },
  {
   "cell_type": "markdown",
   "id": "37297857-757f-452f-9db5-0f86c745fb53",
   "metadata": {},
   "source": [
    "# Transform order_date and time_of_day"
   ]
  },
  {
   "cell_type": "code",
   "execution_count": null,
   "id": "e318a0c9-ecbb-4b0b-8292-99ae957f524a",
   "metadata": {
    "executionCancelledAt": null,
    "executionTime": 3025,
    "lastExecutedAt": 1728837121456,
    "lastExecutedByKernel": "4ddffa7c-73f7-49e2-aeab-abce54236129",
    "lastScheduledRunId": null,
    "lastSuccessfullyExecutedCode": "# Add time_of_day column\norders_data = (\n    orders_data\n    .withColumn(\"time_of_day\", \n                F.when((F.hour(F.col(\"order_date\"))>=5)&(F.hour(F.col(\"order_date\"))<12), \"morning\") \\\n                .when((F.hour(F.col(\"order_date\"))>=12)&(F.hour(F.col(\"order_date\"))<18), \"afternoon\") \\\n                .otherwise(\"evening\"))\n    .withColumn(\"order_date\", F.col(\"order_date\").cast(\"date\"))\n)\n\norders_data.toPandas().head()",
    "outputsMetadata": {
     "0": {
      "height": 222,
      "type": "dataFrame"
     }
    }
   },
   "outputs": [],
   "source": [
    "# Add time_of_day column\n",
    "orders_data = (\n",
    "    orders_data\n",
    "    .withColumn(\"time_of_day\", \n",
    "                F.when((F.hour(F.col(\"order_date\"))>=5)&(F.hour(F.col(\"order_date\"))<12), \"morning\") \\\n",
    "                .when((F.hour(F.col(\"order_date\"))>=12)&(F.hour(F.col(\"order_date\"))<18), \"afternoon\") \\\n",
    "                .otherwise(\"evening\"))\n",
    "    .withColumn(\"order_date\", F.col(\"order_date\").cast(\"date\"))\n",
    ")\n",
    "\n",
    "orders_data.toPandas().head()"
   ]
  },
  {
   "cell_type": "code",
   "execution_count": null,
   "id": "11ac9e96-85b6-4c64-affc-700843de0f28",
   "metadata": {
    "collapsed": true,
    "executionCancelledAt": null,
    "executionTime": 1267,
    "jupyter": {
     "outputs_hidden": true,
     "source_hidden": false
    },
    "lastExecutedAt": 1728837122723,
    "lastExecutedByKernel": "4ddffa7c-73f7-49e2-aeab-abce54236129",
    "lastScheduledRunId": null,
    "lastSuccessfullyExecutedCode": "orders_data.select(\"purchase_address\").collect()"
   },
   "outputs": [],
   "source": [
    "orders_data.select(\"purchase_address\").collect()"
   ]
  },
  {
   "cell_type": "markdown",
   "id": "50f4a3ca-517e-40fb-a04a-fda32ee228a3",
   "metadata": {},
   "source": [
    "# Transform string columns"
   ]
  },
  {
   "cell_type": "code",
   "execution_count": null,
   "id": "4d4deb55-9944-4d9e-89ee-c86ff11003a7",
   "metadata": {
    "executionCancelledAt": null,
    "executionTime": 49,
    "lastExecutedAt": 1728837122772,
    "lastExecutedByKernel": "4ddffa7c-73f7-49e2-aeab-abce54236129",
    "lastScheduledRunId": null,
    "lastSuccessfullyExecutedCode": "orders_data = (\n    orders_data\n    .withColumn(\"product\", F.lower(F.col(\"product\")))\n    .withColumn(\"category\", F.lower(F.col(\"category\")))\n    .withColumn(\"purchase_state\", F.regexp_extract(F.col(\"purchase_address\"), r\"\\b[A-Z]{2}\\b\", 0))\n)",
    "outputsMetadata": {
     "0": {
      "height": 549,
      "type": "stream"
     }
    }
   },
   "outputs": [],
   "source": [
    "orders_data = (\n",
    "    orders_data\n",
    "    .withColumn(\"product\", F.lower(F.col(\"product\")))\n",
    "    .withColumn(\"category\", F.lower(F.col(\"category\")))\n",
    "    .withColumn(\"purchase_state\", F.regexp_extract(F.col(\"purchase_address\"), r\"\\b[A-Z]{2}\\b\", 0))\n",
    ")"
   ]
  },
  {
   "cell_type": "markdown",
   "id": "d16fce30-837e-4f56-8901-08e2ba76e347",
   "metadata": {},
   "source": [
    "# Reorder columns"
   ]
  },
  {
   "cell_type": "code",
   "execution_count": null,
   "id": "7b0638f4-a57a-4627-90e0-b816b7feb4b3",
   "metadata": {
    "executionCancelledAt": null,
    "executionTime": 52,
    "lastExecutedAt": 1728837122824,
    "lastExecutedByKernel": "4ddffa7c-73f7-49e2-aeab-abce54236129",
    "lastScheduledRunId": null,
    "lastSuccessfullyExecutedCode": "order_columns = [\n    \"order_date\",\n    \"time_of_day\",\n    \"order_id\",\n    \"product\",\n    \"product_id\",\n    \"category\",\n    \"purchase_address\",\n    \"purchase_state\",\n    \"quantity_ordered\",\n    \"price_each\",\n    \"cost_price\",\n    \"turnover\",\n    \"margin\"\n]\norders_data = orders_data.select(order_columns)"
   },
   "outputs": [],
   "source": [
    "order_columns = [\n",
    "    \"order_date\",\n",
    "    \"time_of_day\",\n",
    "    \"order_id\",\n",
    "    \"product\",\n",
    "    \"product_id\",\n",
    "    \"category\",\n",
    "    \"purchase_address\",\n",
    "    \"purchase_state\",\n",
    "    \"quantity_ordered\",\n",
    "    \"price_each\",\n",
    "    \"cost_price\",\n",
    "    \"turnover\",\n",
    "    \"margin\"\n",
    "]\n",
    "orders_data = orders_data.select(order_columns)"
   ]
  },
  {
   "cell_type": "markdown",
   "id": "d89ccae5-f2ae-4b33-8900-440f2d6d771c",
   "metadata": {},
   "source": [
    "# Write cleaned data"
   ]
  },
  {
   "cell_type": "code",
   "execution_count": null,
   "id": "33a6c3bd-a464-46f5-87cd-7e14558120da",
   "metadata": {
    "executionCancelledAt": null,
    "executionTime": 3036,
    "lastExecutedAt": 1728837125860,
    "lastExecutedByKernel": "4ddffa7c-73f7-49e2-aeab-abce54236129",
    "lastScheduledRunId": null,
    "lastSuccessfullyExecutedCode": "orders_data.write.parquet(\"orders_data_clean\", mode=\"overwrite\")",
    "outputsMetadata": {
     "0": {
      "height": 38,
      "type": "stream"
     }
    }
   },
   "outputs": [],
   "source": [
    "orders_data.write.parquet(\"orders_data_clean\", mode=\"overwrite\")"
   ]
  },
  {
   "cell_type": "markdown",
   "id": "819f3f24",
   "metadata": {},
   "source": [
    "# Stop Spark session"
   ]
  },
  {
   "cell_type": "code",
   "execution_count": null,
   "id": "f7d3f70d",
   "metadata": {},
   "outputs": [],
   "source": [
    "spark.stop()"
   ]
  }
 ],
 "metadata": {
  "colab": {
   "name": "Welcome to DataCamp Workspaces.ipynb",
   "provenance": []
  },
  "editor": "DataLab",
  "kernelspec": {
   "display_name": "Python 3 (ipykernel)",
   "language": "python",
   "name": "python3"
  },
  "language_info": {
   "codemirror_mode": {
    "name": "ipython",
    "version": 3
   },
   "file_extension": ".py",
   "mimetype": "text/x-python",
   "name": "python",
   "nbconvert_exporter": "python",
   "pygments_lexer": "ipython3",
   "version": "3.8.10"
  }
 },
 "nbformat": 4,
 "nbformat_minor": 5
}
